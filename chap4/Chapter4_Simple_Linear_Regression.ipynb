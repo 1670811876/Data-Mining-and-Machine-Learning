{
 "cells": [
  {
   "cell_type": "markdown",
   "metadata": {},
   "source": [
    "#  机器学习 --- 从单变量线性回归开始\n",
    "\n",
    "现在的机器学习平台能提供很多便利的操作，如果过于依赖机器学习包，则很难理解机器学习学习是如何工作的，我们的第一个机器学习算法是利用numpy等来实现一个单变量线性回归，理解梯度下降算法。\n"
   ]
  },
  {
   "cell_type": "markdown",
   "metadata": {},
   "source": [
    "## 一个例子\n",
    "你在上海有一套房（1250平米），需要把它卖掉，能卖多少钱，如何估算？\n",
    "\n",
    "![房价](img/house.png)\n",
    "\n",
    "通常的做法：  \n",
    "* Step 1：收集大量成交的房子的数据（`训练集`）\n",
    "* Step 2：假设一个房子面积与价格的函数（`假设/模型`）\n",
    "* Step 3：利用收集的数据解答出函数中的参数(`训练`)\n",
    "* Step 4：将你的房子面积带入到求解到函数中，计算出价格（`预测`）"
   ]
  },
  {
   "cell_type": "markdown",
   "metadata": {},
   "source": [
    "一种可能的预测结果是：\n",
    "\n",
    "\n",
    "![房价预测](img/houseprice.png)\n",
    "\n"
   ]
  },
  {
   "cell_type": "markdown",
   "metadata": {},
   "source": [
    "这种给定的数据集，每一行数据都有正确答案（如房子的实际成交价格），这个是监督学习，并且这种学习方法预测的值是连续的值，称为`回归问题`。"
   ]
  },
  {
   "cell_type": "markdown",
   "metadata": {},
   "source": [
    "## 相关概念与标记\n",
    "* `Training Set`:训练集，给定的带标记的数据集\n",
    "* `m`: 代表`Training Set`中实例的数量\n",
    "* `x`: 代表特征(`feature`)或称输入变量\n",
    "* `y`: 代表目标变量或输出变量\n",
    "* `(x, y)`: 表示`Training Set`中的实例\n",
    "* `(x(i), y(i))`: 代表第i个实例 \n",
    "* 注意：$x_j^{(i)}$下标`j`表示第`j`个特征\n"
   ]
  },
  {
   "cell_type": "markdown",
   "metadata": {},
   "source": [
    "## 模型表示(Model Representation)\n",
    "学习过程：\n",
    "* 给学习算法以训练数据\n",
    "* 输出`h`，`h`称为`hypothesis`,是一个函数,`h`也表示学习算法的解决方案或函数\n",
    "* 根据输入`x`,输出结果`y`\n",
    "![学习](img/h.png)\n",
    "\n",
    "房价预测模型：  \n",
    "假设一种可能的表示方式是：  \n",
    "$$h_\\theta(x)=\\theta_0+\\theta_1x$$\n",
    "由于只含有一个特征/输入变量，这类问题称为`单变量线性回归`，其中$\\theta_0$,$\\theta_1$称为模型的参数。  \n",
    "问题是：  \n",
    "如何求解模型中的参数$\\theta_0$、$\\theta_1$呢，如果我们求解出了$\\theta_0$、 $\\theta_1$，则知道房屋面积`x`，就能预测出价格`y`。"
   ]
  },
  {
   "cell_type": "markdown",
   "metadata": {},
   "source": [
    "## 代价函数\n",
    "我们利用代价函数来求$\\theta_0$、$\\theta_1$。代价函数(Cost Function)，也称为损失函数(Loss Function)。  \n",
    "何为代价函数？  \n",
    "直观理解：选择的参数决定了得到的模型与训练集的准确程度，即模型所预测的值与训练集中实际值的差距（称为`建模误差`）。实际上，误差越小，预测的结果越准确。\n",
    "\n",
    "![cost](img\\cost.png)\n",
    "\n",
    "### 常见代价函数\n",
    "* 0-1损失函数：\n",
    "\n",
    "$$\n",
    "L(Y, f(X))=\n",
    "\\begin{cases}\n",
    "1,Y \\neq f(X) \\\\\n",
    "0,Y = f(x) \\\\\n",
    "\\end{cases}\n",
    "$$\n",
    "\n",
    "* 绝对损失函数\n",
    "$$L(Y,f(X))=|Y-f(X)|$$\n",
    "\n",
    "* 平方损失函数\n",
    "$$L(Y|f(X))=\\sum_N(Y-f(X))^2$$\n",
    "\n",
    "* 对数损失函数\n",
    "$$L(Y,P(Y|X))=-logP(Y|X)$$\n",
    "* 其它损失函数：交叉熵...\n",
    "$$J(\\theta) = -\\frac{ 1 }{ m }[\\sum_{ i=1 }^{ m } ({y^{(i)} \\log h_\\theta(x^{(i)}) + (1-y^{(i)}) \\log (1-h_\\theta(x^{(i)})})]$$"
   ]
  },
  {
   "cell_type": "markdown",
   "metadata": {},
   "source": [
    "那“房价预测”问题可以形式化描述为：  \n",
    "* 假设：\n",
    "$$h_\\theta(x)=\\theta_0 + \\theta_1x$$\n",
    "* 参数：\n",
    "$$\\theta_0,\\theta_1$$\n",
    "* 代价函数：利用平方代价函数\n",
    "$$J(\\theta_0, \\theta_1)=\\frac{1}{2m}\\sum_{i=1}^m(\\hat y^{(i)}-y^{(i)})^2=\\frac{1}{2m}\\sum_{i=1}^{m}(h_\\theta(x^{(i)})-y^{(i)})^2$$\n",
    "\n",
    "\n",
    "我们的目标是使得代价函数$J(\\theta_0,\\theta_1)$最小，也就是\n",
    "$$\\underset{\\theta_0,\\theta_1}{minimize}J(\\theta_0,\\theta_1)$$\n",
    "\n",
    "![costJ](img\\costJ.png)\n",
    "\n",
    "如何求得$\\theta_0, \\theta_1$使得$J((\\theta_0, \\theta_1))$最小？"
   ]
  },
  {
   "cell_type": "markdown",
   "metadata": {},
   "source": [
    "用实例理解代价函数：\n",
    "* 训练集：(1,1)、（2,2)、（3,3）\n",
    "* 假设：$h_\\theta(x)=\\theta_1x$(假设$\\theta_0=0$)\n",
    "* 计算代价$J(\\theta)$:\n",
    "    * 当$θ_1=0$： $J(θ)=(1/2*3)(1^2+2^2+3^2)=2.33$\n",
    "    * 当$θ_1=0.5$：$J(θ)=(1/2*3)((1-0.5)^2+(2-1)^2+(3-1.5)^2)=0.58$\n",
    "    * 当$θ_1=1$：$J(θ)=0$\n",
    "    \n",
    "![costJexample](img/costJexample.png)\n",
    "\n",
    "参数在 θ0不恒为 0 时损失函数 J(θ)关于 θ0,θ1 的3-D图像，图像中的高度为损失函数的值。\n",
    "\n",
    "![costJ](img\\costJ.png)\n",
    "\n",
    "了解了代价函数的样子，问题是：如何自动找到参数 θ0,θ1 使得J最小？\n",
    "\n",
    "![costJ](img\\costJPlat.png)\n"
   ]
  },
  {
   "cell_type": "markdown",
   "metadata": {},
   "source": [
    "## 梯度下降\n",
    "* 梯度下降(Gradient Descent)是一个而用来求函数最小值的算法.\n",
    "* 算法思想：\n",
    "    * Step1 随机选择一个参数的组合（ θ0,θ1,……, θn）\n",
    "    * Step2 计算代价函数J(θ0,θ1,……, θn)\n",
    "    * Step3 选择下一个能将J(θ0,θ1,……, θn)下降最多的参数组合\n",
    "    * Step4 继续Step2、Step4直到达到局部最小值(local minimum)。\n",
    "* 注：不能确定是否达到全局最小值(global minimum)，选择不同初始参数组合，可能会找到不同的局部最小值\n",
    "\n",
    "![梯度下降](img/gradient.png)\n",
    "\n",
    "* 想想你在一个山上，如何快速下山？\n",
    "\n",
    "### 批量梯度下降(Batch Gradient Descent)算法\n",
    "算法4.1  \n",
    "<hr>\n",
    "repeat until convergence{\n",
    "$$\\begin{equation}\n",
    "    \\theta_j := \\theta_j - \\alpha \\frac{\\partial}{\\partial \\theta_j}J(\\theta_0,\\theta_1) \\ (for\\ j=0 \\ and \\ j=1)\n",
    "\\end{equation}\n",
    "$$\n",
    "}\n",
    "<hr>\n",
    "\n",
    "* 'a'是学习速率(learning rate)——决定了让代价函数下降程度最大的方向向下迈出的步子有多大\n",
    "* 在批量梯度下降中，每一次`同时`让所有的参数进行更新.即：\n",
    "\n",
    "$$\n",
    "temp0 :=\\theta_0 - \\alpha\\frac{\\partial}{\\partial \\theta_0}J(\\theta_0,\\theta_1) \\\\\n",
    "temp1 :=\\theta_1 - \\alpha\\frac{\\partial}{\\partial \\theta_1}J(\\theta_0,\\theta_1) \\\\\n",
    "\\theta_0:=temp0 \\\\\n",
    "\\theta_1:=temp1\n",
    "$$\n",
    "\n",
    "而不是：\n",
    "$$\n",
    "\\theta_0 :=\\theta_0 - \\alpha\\frac{\\partial}{\\partial \\theta_0}J(\\theta_0,\\theta_1) \\\\\n",
    "\\theta_1 :=\\theta_1 - \\alpha\\frac{\\partial}{\\partial \\theta_1}J(\\theta_0,\\theta_1) \\\\\n",
    "$$\n",
    "\n",
    "* 批量梯度下降每一次更新使用所有的样本\n",
    "\n",
    "### 理解梯度下降\n",
    "$$\\theta_j:=\\theta_j - \\alpha\\frac{\\partial}{\\partial \\theta_j}J(\\theta)$$\n",
    "\n",
    "* 对$\\theta$赋值，使得$J(\\theta)$按梯度下降最快的方向进行\n",
    "* 一直迭代，直到达到局部最小值\n",
    "* 关于$\\alpha$的理解\n",
    "    * $\\alpha$太小，慢慢挪动，需要很多步才能达到最低点\n",
    "    * $\\alpha$太大，有可能会越过最低点，从而无法收敛。\n",
    "    \n",
    "![梯度下降](img\\descent.png)"
   ]
  },
  {
   "cell_type": "markdown",
   "metadata": {},
   "source": [
    "## 利用梯度下降求解线性回归\n",
    "\n",
    "![梯度下降的线性回归](img/reg.png)\n",
    "\n",
    "问题的关键在于求关于$\\theta_0$和$\\theta_1$的导数：  \n",
    "$$\\frac{\\partial}{\\partial \\theta_j}J(\\theta_0,\\theta_1)=\\frac{\\partial}{\\partial \\theta_j}\\frac{1}{2m}\\sum_{i=1}^m(h_\\theta(x^{(i)})-y^{(i)})^2$$\n",
    "* 当$j=0$时，  \n",
    "$$\\frac{\\partial}{\\partial \\theta_0}J(\\theta_0,\\theta_1)=\\frac{1}{m}\\sum_{i=1}^m(h_\\theta(x^{(i)})-y^{(i)})$$\n",
    "* 当$j=1$时，\n",
    "$$\\frac{\\partial}{\\partial \\theta_1}J(\\theta_0,\\theta_1)=\\frac{1}{m}\\sum_{i=1}^m((h_\\theta(x^{(i)})-y^{(i)}).x^{(i)})$$\n",
    "\n",
    "算法4.1改写为，  \n",
    "<hr/>\n",
    "算法4.2\n",
    "<hr/>\n",
    "Repeat{  \n",
    "$$temp0:=\\theta_0-\\alpha\\frac{1}{m}\\sum_{i=1}^{m}(h_\\theta(x^{(i)})-y^{(i)})$$\n",
    "$$temp1:=\\theta_1-\\alpha\\frac{1}{m}\\sum_{i=1}^{m}((h_\\theta(x^{(i)})-y^{(i)}).x^{(i)})$$\n",
    "\n",
    "$$\\theta_0:=temp0$$\n",
    "$$\\theta_1:=temp1$$\n",
    "}\n",
    "<hr/>"
   ]
  },
  {
   "cell_type": "markdown",
   "metadata": {},
   "source": [
    "## 示例\n",
    "\n",
    "给定一个数据点集合`X`和对应的目标值`y`，线性模型的目标就是找到一条使用向量$\\theta=[\\theta_1,...,\\theta_n]$和位移`b`描述的线，来尽可能地近似每个样本`X[i]`和`y[i]`。假设函数用数学符号来表示就是：\n",
    "\n",
    "$$\\boldsymbol{h_\\theta(X)} = X \\boldsymbol{\\theta} + b$$\n",
    "\n",
    "我们对`X`增加一列$[1，....1]^T$,令$b=\\theta_0$, $\\theta=[\\theta_0, \\theta_1,...,\\theta_n]$则假设函数可表示为：\n",
    "\n",
    "$$\\boldsymbol{h_\\theta(X)} = X \\boldsymbol{\\theta}$$\n",
    "\n",
    "并最小化所有数据点上的平方误差作为损失函数(cost function)\n",
    "\n",
    "$$\\sum_{i=1}^n (h_\\theta(x_i)-y_i)^2.$$\n",
    "\n",
    "<b>更深理解</b>：实际上线性模型是最简单、但也是最有用的神经网络。一个神经网络就是一个由节点（神经元）和有向边组成的集合。我们一般把一些节点组成层，每一层先从下面一层的节点获取输入，然后输出给上面的层使用。要计算一个节点值，我们需要将输入节点值做加权和（权数值即 `w`），然后再加上一个**激活函数（activation function）**。对于线性回归而言，它是一个两层神经网络，其中第一层是（下图橙色点）输入，每个节点对应输入数据点的一个维度，第二层是单输出节点（下图绿色点），它使用身份函数（$f(x)=x$）作为激活函数。（引用李沐老师深度学习教材，在此感谢）\n",
    "\n",
    "<img src=\"img/onelayer.png\" width=\"50%\">\n",
    "\n",
    "### 创建数据集\n",
    "\n",
    "这里我们使用一个数据集来尽量简单地解释清楚，真实的线性回归模型是什么样的。具体来说，我们使用如下方法来生成数据；`X[i][0]=1`,随机数值 `X[i][1]`，其相应的标注为 `y[i]`：\n",
    "\n",
    "`y[i] = 4.2 * X[i][0] + 2 * X[i][1] + noise`\n",
    "\n",
    "使用数学符号表示：\n",
    "\n",
    "$$y = X \\cdot \\theta  + \\eta, \\quad \\text{for } \\eta \\sim \\mathcal{N}(0,\\sigma^2)$$\n",
    "\n",
    "这里噪声服从均值0和标准差为0.01的正态分布。"
   ]
  },
  {
   "cell_type": "code",
   "execution_count": 1,
   "metadata": {
    "ExecuteTime": {
     "end_time": "2019-09-16T14:14:19.436414Z",
     "start_time": "2019-09-16T14:14:17.901012Z"
    }
   },
   "outputs": [],
   "source": [
    "#导入相关计算包\n",
    "import numpy as np\n",
    "import pandas as pd\n",
    "import matplotlib.pyplot as plt"
   ]
  },
  {
   "cell_type": "code",
   "execution_count": 4,
   "metadata": {
    "ExecuteTime": {
     "end_time": "2019-09-16T14:14:38.769260Z",
     "start_time": "2019-09-16T14:14:38.741943Z"
    },
    "scrolled": true
   },
   "outputs": [],
   "source": [
    "num_inputs = 1  #维度\n",
    "num_examples = 1000 #生成的样本数\n",
    "true_theta = np.array([[4.2, 2]]) #真实的参数值\n",
    "\n",
    "X = np.random.randn(num_examples, num_inputs)  #随机函数产生X\n",
    "X = np.insert(X, 0, values=np.ones(num_examples), axis=1)#插入1列\n",
    "\n",
    "y = np.dot(X, true_theta.T) #计算y值\n",
    "y += 0.01 * np.random.randn(num_examples, num_inputs) #加点噪声"
   ]
  },
  {
   "cell_type": "markdown",
   "metadata": {},
   "source": [
    "注意：`X`的每一行是一个长度为2的向量，而`y`的每一行是一个长度为1的向量（标量）。"
   ]
  },
  {
   "cell_type": "code",
   "execution_count": 5,
   "metadata": {
    "ExecuteTime": {
     "end_time": "2019-09-16T14:14:40.296584Z",
     "start_time": "2019-09-16T14:14:40.250556Z"
    }
   },
   "outputs": [
    {
     "name": "stdout",
     "output_type": "stream",
     "text": [
      "[ 1.         -0.69893548] [2.80821885]\n"
     ]
    }
   ],
   "source": [
    "print(X[0],y[0])"
   ]
  },
  {
   "cell_type": "markdown",
   "metadata": {},
   "source": [
    "利用matplotlib.pyplot绘制第二个变量`X[i][1]`与`y`的散点图。如下图所示："
   ]
  },
  {
   "cell_type": "code",
   "execution_count": 6,
   "metadata": {
    "ExecuteTime": {
     "end_time": "2019-09-16T14:15:44.097276Z",
     "start_time": "2019-09-16T14:15:43.379130Z"
    }
   },
   "outputs": [
    {
     "data": {
      "image/png": "[encoded data removed]",
      "text/plain": [
       "<Figure size 432x288 with 1 Axes>"
      ]
     },
     "metadata": {
      "needs_background": "light"
     },
     "output_type": "display_data"
    }
   ],
   "source": [
    "plt.scatter(X[0:50, 1],y[0:50])\n",
    "plt.show()"
   ]
  },
  {
   "cell_type": "markdown",
   "metadata": {},
   "source": [
    "### 定义模型\n",
    "\n",
    "线性模型就是将输入和模型的参数（$\\theta$）相乘：\n",
    "\n",
    "$$\\boldsymbol{h_\\theta(X)} = X \\boldsymbol{\\theta}$$  即\n",
    "\n",
    "$$\\boldsymbol{h_\\theta(X)} =  \\boldsymbol{\\theta_0} + X[1] \\boldsymbol{\\theta_1},其中(X[0]=1)$$ "
   ]
  },
  {
   "cell_type": "code",
   "execution_count": 15,
   "metadata": {
    "ExecuteTime": {
     "end_time": "2019-09-16T14:15:48.623631Z",
     "start_time": "2019-09-16T14:15:48.608199Z"
    }
   },
   "outputs": [],
   "source": [
    "def net(X, theta):\n",
    "    return np.dot(X, theta.T)"
   ]
  },
  {
   "cell_type": "markdown",
   "metadata": {},
   "source": [
    "## 定义损失函数\n",
    "\n",
    "我们使用常见的平方误差来衡量预测目标和真实目标之间的差距。\n",
    "\n",
    "$$\\frac{1}{2m}\\sum_{i=1}^m (h_\\theta(x_i)-y_i)^2.$$"
   ]
  },
  {
   "cell_type": "code",
   "execution_count": 16,
   "metadata": {
    "ExecuteTime": {
     "end_time": "2019-09-16T14:15:58.980951Z",
     "start_time": "2019-09-16T14:15:58.953914Z"
    }
   },
   "outputs": [],
   "source": [
    "def computeCost(h, y):\n",
    "    cost = np.power((h - y), 2)\n",
    "    return np.sum(cost)/(2*len(X))"
   ]
  },
  {
   "cell_type": "markdown",
   "metadata": {},
   "source": [
    "## 梯度下降\n",
    "\n",
    "虽然线性回归有显式解，但绝大部分模型并没有。所以我们这里通过随机梯度下降来求解。每一步，我们将模型参数沿着梯度的反方向走特定距离，这个距离一般叫**学习率（learning rate）** $\\alpha$。"
   ]
  },
  {
   "cell_type": "code",
   "execution_count": 17,
   "metadata": {
    "ExecuteTime": {
     "end_time": "2019-09-16T14:16:04.213646Z",
     "start_time": "2019-09-16T14:16:04.165064Z"
    }
   },
   "outputs": [],
   "source": [
    "#********************************\n",
    "#功能：\n",
    "#  梯度下降算法\n",
    "#params:\n",
    "#  X-训练集\n",
    "#  y-训练样本的标记\n",
    "#  theta-模型参数\n",
    "#  alpha-学习速率(learning rate)\n",
    "#  iters-迭代次数\n",
    "#returns:\n",
    "#  返回求解后的模型参数theta\n",
    "#********************************\n",
    "def gradientDescent(X, y, theta, alpha, iters):\n",
    "    temp = np.zeros(theta.shape)\n",
    "    cost = np.zeros(iters)  #记录每次得的损失\n",
    "    #参数的个数，ravel()多维数组转为一维数组\n",
    "    paraNum = int(np.ravel(theta).shape[0])\n",
    "    \n",
    "    #迭代求解参数\n",
    "    for i in range(iters):\n",
    "        #求得误差\n",
    "        error = np.dot(X, theta.T) - y\n",
    "        #计算梯度\n",
    "        for j in range(paraNum):\n",
    "            term = error * X[:,j].reshape(error.shape)\n",
    "            temp[0, j] = theta[0, j] - (alpha / len(X)) * np.sum(term)\n",
    "        \n",
    "        #更新参数\n",
    "        theta = temp\n",
    "        #计算预测值\n",
    "        h = np.dot(X, theta.T)\n",
    "        #计算损失CostJ\n",
    "        loss = computeCost(h, y)\n",
    "        costJ.append(loss)\n",
    "        if (i + 1) % 100 == 0:\n",
    "            print(\"Epoch %s. Moving loss: %s. theta0:%s, theta1:%s\"  % (i, loss,theta[0][0],theta[0][1]))\n",
    "            plot(costJ, X, theta)\n",
    "    return theta"
   ]
  },
  {
   "cell_type": "markdown",
   "metadata": {},
   "source": [
    "## 初始化模型\n",
    "\n",
    "下面我们随机初始化模型参数"
   ]
  },
  {
   "cell_type": "code",
   "execution_count": 18,
   "metadata": {
    "ExecuteTime": {
     "end_time": "2019-09-16T14:16:09.936244Z",
     "start_time": "2019-09-16T14:16:09.914885Z"
    }
   },
   "outputs": [],
   "source": [
    "theta = np.array([[0,0]])"
   ]
  },
  {
   "cell_type": "code",
   "execution_count": 19,
   "metadata": {
    "ExecuteTime": {
     "end_time": "2019-09-16T14:16:11.372845Z",
     "start_time": "2019-09-16T14:16:11.342086Z"
    }
   },
   "outputs": [
    {
     "data": {
      "text/plain": [
       "0"
      ]
     },
     "execution_count": 19,
     "metadata": {},
     "output_type": "execute_result"
    }
   ],
   "source": [
    "theta[0,0]"
   ]
  },
  {
   "cell_type": "markdown",
   "metadata": {},
   "source": [
    "## 训练\n",
    "\n",
    "现在我们可以开始训练了。训练通常需要迭代数据数次，在这里使用`iters`表示迭代总次数；一次迭代中，我们读所有的训练点，计算梯度并更新模型参数（批量梯度下降）。"
   ]
  },
  {
   "cell_type": "code",
   "execution_count": 20,
   "metadata": {
    "ExecuteTime": {
     "end_time": "2019-09-16T14:16:15.835934Z",
     "start_time": "2019-09-16T14:16:15.807364Z"
    }
   },
   "outputs": [],
   "source": [
    "# 模型函数\n",
    "def real_fn(X):\n",
    "    return 4.2 * X[:, 0] + 2 * X[:, 1]\n",
    "\n",
    "# 绘制损失随训练次数降低的折线图，以及预测值和真实值的散点图\n",
    "def plot(losses, X, theta):\n",
    "    xs = list(range(len(losses)))\n",
    "    f, (fg1, fg2) = plt.subplots(1, 2)\n",
    "    fg1.set_title('Loss during training')\n",
    "    fg1.plot(xs, losses, '-r')\n",
    "    fg2.set_title('Estimated vs real function')\n",
    "    fg2.plot(X[:, 1],net(X, theta), 'or', label='Estimated')\n",
    "    fg2.plot(X[:, 1],real_fn(X), '*g', label='Real')\n",
    "    fg2.legend()\n",
    "    plt.show()"
   ]
  },
  {
   "cell_type": "code",
   "execution_count": 21,
   "metadata": {
    "ExecuteTime": {
     "end_time": "2019-09-16T14:16:24.584631Z",
     "start_time": "2019-09-16T14:16:17.560991Z"
    }
   },
   "outputs": [
    {
     "name": "stdout",
     "output_type": "stream",
     "text": [
      "Epoch 99. Moving loss: 1.4544763111993142. theta0:2.6582978280990166, theta1:1.2651348582764848\n"
     ]
    },
    {
     "data": {
      "image/png": "[encoded data removed]",
      "text/plain": [
       "<Figure size 432x288 with 2 Axes>"
      ]
     },
     "metadata": {
      "needs_background": "light"
     },
     "output_type": "display_data"
    },
    {
     "name": "stdout",
     "output_type": "stream",
     "text": [
      "Epoch 199. Moving loss: 0.19613616324655866. theta0:3.6342200144374286, theta1:1.7299795901687103\n"
     ]
    },
    {
     "data": {
      "image/png": "[encoded data removed]",
      "text/plain": [
       "<Figure size 432x288 with 2 Axes>"
      ]
     },
     "metadata": {
      "needs_background": "light"
     },
     "output_type": "display_data"
    },
    {
     "name": "stdout",
     "output_type": "stream",
     "text": [
      "Epoch 299. Moving loss: 0.026486028654858624. theta0:3.992504339050524, theta1:1.9007742648873862\n"
     ]
    },
    {
     "data": {
      "image/png": "[encoded data removed]",
      "text/plain": [
       "<Figure size 432x288 with 2 Axes>"
      ]
     },
     "metadata": {
      "needs_background": "light"
     },
     "output_type": "display_data"
    },
    {
     "name": "stdout",
     "output_type": "stream",
     "text": [
      "Epoch 399. Moving loss: 0.0036136919629968832. theta0:4.1240393815917225, theta1:1.9635275024255543\n"
     ]
    },
    {
     "data": {
      "image/png": "[encoded data removed]",
      "text/plain": [
       "<Figure size 432x288 with 2 Axes>"
      ]
     },
     "metadata": {
      "needs_background": "light"
     },
     "output_type": "display_data"
    },
    {
     "name": "stdout",
     "output_type": "stream",
     "text": [
      "Epoch 499. Moving loss: 0.0005300281195792073. theta0:4.172329265484913, theta1:1.9865840046730912\n"
     ]
    },
    {
     "data": {
      "image/png": "[encoded data removed]",
      "text/plain": [
       "<Figure size 432x288 with 2 Axes>"
      ]
     },
     "metadata": {
      "needs_background": "light"
     },
     "output_type": "display_data"
    }
   ],
   "source": [
    "#初始化模型参数\n",
    "theta = np.array([[0,0]])\n",
    "alpha = 0.01\n",
    "iters = 500\n",
    "costJ = []\n",
    "theta = gradientDescent(X, y, theta, alpha, iters)"
   ]
  },
  {
   "cell_type": "markdown",
   "metadata": {},
   "source": [
    "## 绘制拟合曲线图"
   ]
  },
  {
   "cell_type": "code",
   "execution_count": 22,
   "metadata": {
    "ExecuteTime": {
     "end_time": "2019-09-16T14:16:28.379656Z",
     "start_time": "2019-09-16T14:16:28.352692Z"
    }
   },
   "outputs": [],
   "source": [
    "#指定的间隔内返回均匀间隔的100个数字\n",
    "x = np.linspace(X[:,1].min(), X[:,1].max(), 100)\n",
    "#利用模型求得预测值\n",
    "f = theta[0, 0] + (theta[0, 1] * x)"
   ]
  },
  {
   "cell_type": "code",
   "execution_count": 23,
   "metadata": {
    "ExecuteTime": {
     "end_time": "2019-09-16T14:16:31.394103Z",
     "start_time": "2019-09-16T14:16:30.149638Z"
    }
   },
   "outputs": [
    {
     "data": {
      "image/png": "[encoded data removed]",
      "text/plain": [
       "<Figure size 864x576 with 1 Axes>"
      ]
     },
     "metadata": {
      "needs_background": "light"
     },
     "output_type": "display_data"
    }
   ],
   "source": [
    "fig, ax = plt.subplots(figsize=(12,8))\n",
    "ax.plot(x,f,'r', label = 'Prediction')\n",
    "ax.scatter(X[:,1],y,label='Training Data')\n",
    "ax.legend(loc=2)\n",
    "ax.set_xlabel(\"x\")\n",
    "ax.set_ylabel('y')\n",
    "ax.set_title('Sample Regression')\n",
    "plt.show()"
   ]
  },
  {
   "cell_type": "markdown",
   "metadata": {},
   "source": [
    "## 绘制训练误差图"
   ]
  },
  {
   "cell_type": "code",
   "execution_count": 24,
   "metadata": {
    "ExecuteTime": {
     "end_time": "2019-09-16T14:16:35.976311Z",
     "start_time": "2019-09-16T14:16:34.796362Z"
    }
   },
   "outputs": [
    {
     "data": {
      "image/png": "[encoded data removed]",
      "text/plain": [
       "<Figure size 864x576 with 1 Axes>"
      ]
     },
     "metadata": {
      "needs_background": "light"
     },
     "output_type": "display_data"
    }
   ],
   "source": [
    "fig, ax = plt.subplots(figsize=(12, 8))\n",
    "ax.plot(np.arange(iters), costJ, 'r')\n",
    "ax.set_xlabel('Iterations')\n",
    "ax.set_ylabel('Cost')\n",
    "ax.set_title('Error Vs. Training Epoch')\n",
    "plt.show()"
   ]
  },
  {
   "cell_type": "markdown",
   "metadata": {},
   "source": [
    "训练完成后，我们可以比较学得的参数和真实参数"
   ]
  },
  {
   "cell_type": "code",
   "execution_count": 25,
   "metadata": {
    "ExecuteTime": {
     "end_time": "2019-09-16T14:16:40.053302Z",
     "start_time": "2019-09-16T14:16:40.025568Z"
    }
   },
   "outputs": [
    {
     "data": {
      "text/plain": [
       "array([[4.17232927, 1.986584  ]])"
      ]
     },
     "execution_count": 25,
     "metadata": {},
     "output_type": "execute_result"
    }
   ],
   "source": [
    "theta"
   ]
  },
  {
   "cell_type": "code",
   "execution_count": 26,
   "metadata": {
    "ExecuteTime": {
     "end_time": "2019-09-16T14:16:40.750244Z",
     "start_time": "2019-09-16T14:16:40.728315Z"
    },
    "scrolled": true
   },
   "outputs": [
    {
     "data": {
      "text/plain": [
       "array([[4.2, 2. ]])"
      ]
     },
     "execution_count": 26,
     "metadata": {},
     "output_type": "execute_result"
    }
   ],
   "source": [
    "true_theta"
   ]
  },
  {
   "cell_type": "markdown",
   "metadata": {},
   "source": [
    "## 示例2：——新餐馆利润预测\n",
    "如果你是一个餐馆的CEO，来预测一下一个新城市开的分店的利润。  \n",
    "Note:数据来源于Andrew Ng 《Machine Learning》program exercise。"
   ]
  },
  {
   "cell_type": "markdown",
   "metadata": {},
   "source": [
    "### 读取数据  \n",
    "利用pandas包的read_csv方法来读取数据，并且利用head方法展示数据的几行"
   ]
  },
  {
   "cell_type": "code",
   "execution_count": 27,
   "metadata": {
    "ExecuteTime": {
     "end_time": "2019-09-16T14:19:55.264560Z",
     "start_time": "2019-09-16T14:19:55.154992Z"
    }
   },
   "outputs": [
    {
     "data": {
      "text/html": [
       "<div>\n",
       "<style scoped>\n",
       "    .dataframe tbody tr th:only-of-type {\n",
       "        vertical-align: middle;\n",
       "    }\n",
       "\n",
       "    .dataframe tbody tr th {\n",
       "        vertical-align: top;\n",
       "    }\n",
       "\n",
       "    .dataframe thead th {\n",
       "        text-align: right;\n",
       "    }\n",
       "</style>\n",
       "<table border=\"1\" class=\"dataframe\">\n",
       "  <thead>\n",
       "    <tr style=\"text-align: right;\">\n",
       "      <th></th>\n",
       "      <th>Population</th>\n",
       "      <th>Profit</th>\n",
       "    </tr>\n",
       "  </thead>\n",
       "  <tbody>\n",
       "    <tr>\n",
       "      <td>0</td>\n",
       "      <td>6.1101</td>\n",
       "      <td>17.5920</td>\n",
       "    </tr>\n",
       "    <tr>\n",
       "      <td>1</td>\n",
       "      <td>5.5277</td>\n",
       "      <td>9.1302</td>\n",
       "    </tr>\n",
       "    <tr>\n",
       "      <td>2</td>\n",
       "      <td>8.5186</td>\n",
       "      <td>13.6620</td>\n",
       "    </tr>\n",
       "    <tr>\n",
       "      <td>3</td>\n",
       "      <td>7.0032</td>\n",
       "      <td>11.8540</td>\n",
       "    </tr>\n",
       "    <tr>\n",
       "      <td>4</td>\n",
       "      <td>5.8598</td>\n",
       "      <td>6.8233</td>\n",
       "    </tr>\n",
       "  </tbody>\n",
       "</table>\n",
       "</div>"
      ],
      "text/plain": [
       "   Population   Profit\n",
       "0      6.1101  17.5920\n",
       "1      5.5277   9.1302\n",
       "2      8.5186  13.6620\n",
       "3      7.0032  11.8540\n",
       "4      5.8598   6.8233"
      ]
     },
     "execution_count": 27,
     "metadata": {},
     "output_type": "execute_result"
    }
   ],
   "source": [
    "data = pd.read_csv('data/ex1data1.txt',header=None,\n",
    "                   names=['Population','Profit'])\n",
    "data.head()"
   ]
  },
  {
   "cell_type": "markdown",
   "metadata": {},
   "source": [
    "可以利用describe函数对数据集做基本的统计分析"
   ]
  },
  {
   "cell_type": "code",
   "execution_count": 28,
   "metadata": {
    "ExecuteTime": {
     "end_time": "2019-09-16T14:19:58.274747Z",
     "start_time": "2019-09-16T14:19:58.150095Z"
    }
   },
   "outputs": [
    {
     "data": {
      "text/html": [
       "<div>\n",
       "<style scoped>\n",
       "    .dataframe tbody tr th:only-of-type {\n",
       "        vertical-align: middle;\n",
       "    }\n",
       "\n",
       "    .dataframe tbody tr th {\n",
       "        vertical-align: top;\n",
       "    }\n",
       "\n",
       "    .dataframe thead th {\n",
       "        text-align: right;\n",
       "    }\n",
       "</style>\n",
       "<table border=\"1\" class=\"dataframe\">\n",
       "  <thead>\n",
       "    <tr style=\"text-align: right;\">\n",
       "      <th></th>\n",
       "      <th>Population</th>\n",
       "      <th>Profit</th>\n",
       "    </tr>\n",
       "  </thead>\n",
       "  <tbody>\n",
       "    <tr>\n",
       "      <td>count</td>\n",
       "      <td>97.000000</td>\n",
       "      <td>97.000000</td>\n",
       "    </tr>\n",
       "    <tr>\n",
       "      <td>mean</td>\n",
       "      <td>8.159800</td>\n",
       "      <td>5.839135</td>\n",
       "    </tr>\n",
       "    <tr>\n",
       "      <td>std</td>\n",
       "      <td>3.869884</td>\n",
       "      <td>5.510262</td>\n",
       "    </tr>\n",
       "    <tr>\n",
       "      <td>min</td>\n",
       "      <td>5.026900</td>\n",
       "      <td>-2.680700</td>\n",
       "    </tr>\n",
       "    <tr>\n",
       "      <td>25%</td>\n",
       "      <td>5.707700</td>\n",
       "      <td>1.986900</td>\n",
       "    </tr>\n",
       "    <tr>\n",
       "      <td>50%</td>\n",
       "      <td>6.589400</td>\n",
       "      <td>4.562300</td>\n",
       "    </tr>\n",
       "    <tr>\n",
       "      <td>75%</td>\n",
       "      <td>8.578100</td>\n",
       "      <td>7.046700</td>\n",
       "    </tr>\n",
       "    <tr>\n",
       "      <td>max</td>\n",
       "      <td>22.203000</td>\n",
       "      <td>24.147000</td>\n",
       "    </tr>\n",
       "  </tbody>\n",
       "</table>\n",
       "</div>"
      ],
      "text/plain": [
       "       Population     Profit\n",
       "count   97.000000  97.000000\n",
       "mean     8.159800   5.839135\n",
       "std      3.869884   5.510262\n",
       "min      5.026900  -2.680700\n",
       "25%      5.707700   1.986900\n",
       "50%      6.589400   4.562300\n",
       "75%      8.578100   7.046700\n",
       "max     22.203000  24.147000"
      ]
     },
     "execution_count": 28,
     "metadata": {},
     "output_type": "execute_result"
    }
   ],
   "source": [
    "data.describe()"
   ]
  },
  {
   "cell_type": "markdown",
   "metadata": {},
   "source": [
    "绘制数据集的散列图 "
   ]
  },
  {
   "cell_type": "code",
   "execution_count": 31,
   "metadata": {
    "ExecuteTime": {
     "end_time": "2019-09-16T14:20:02.562563Z",
     "start_time": "2019-09-16T14:20:01.262418Z"
    },
    "scrolled": false
   },
   "outputs": [
    {
     "data": {
      "image/png": "[encoded data removed]",
      "text/plain": [
       "<Figure size 864x576 with 1 Axes>"
      ]
     },
     "metadata": {
      "needs_background": "light"
     },
     "output_type": "display_data"
    }
   ],
   "source": [
    "data.plot(kind='scatter', x='Population', y='Profit', figsize=(12,8))\n",
    "plt.show()"
   ]
  },
  {
   "cell_type": "markdown",
   "metadata": {},
   "source": [
    "可视化可以直观的看到数据的分布情况，通过上图我们可以看到人数较少的数据聚集在一起，而当人数比较多的时候，利润有直线上涨的趋势。"
   ]
  },
  {
   "cell_type": "markdown",
   "metadata": {},
   "source": [
    "### 实现线性回归"
   ]
  },
  {
   "cell_type": "markdown",
   "metadata": {},
   "source": [
    "首先，定义代价函数，矩阵运算比for循环更有效率，所以需要利用numpy的矩阵运算。"
   ]
  },
  {
   "cell_type": "code",
   "execution_count": 32,
   "metadata": {
    "ExecuteTime": {
     "end_time": "2019-09-16T14:20:12.907820Z",
     "start_time": "2019-09-16T14:20:12.883301Z"
    }
   },
   "outputs": [],
   "source": [
    "def computeCost(X,y,theta):\n",
    "    inner = np.power(((X * theta.T) - y),2)\n",
    "    return np.sum(inner) / (2 * len(X))"
   ]
  },
  {
   "cell_type": "markdown",
   "metadata": {},
   "source": [
    "在训练集中添加一列，以便我们可以使用向量化的解决方案来计算代价和梯度。同时将数据集划分成特征集X和对应的预测结果（依赖变量）y。利用pandas中的iloc函数来提取列。"
   ]
  },
  {
   "cell_type": "code",
   "execution_count": 33,
   "metadata": {
    "ExecuteTime": {
     "end_time": "2019-09-16T14:20:15.967687Z",
     "start_time": "2019-09-16T14:20:15.935160Z"
    }
   },
   "outputs": [],
   "source": [
    "data.insert(0,'Ones',1)\n",
    "cols = data.shape[1]\n",
    "#基于索引位来选取数据集\n",
    "X = data.iloc[:,0:cols-1]\n",
    "y=data.iloc[:,cols-1:cols]"
   ]
  },
  {
   "cell_type": "markdown",
   "metadata": {},
   "source": [
    "将DataFrame数据转换成matrix,并且初始化参数theta"
   ]
  },
  {
   "cell_type": "code",
   "execution_count": 34,
   "metadata": {
    "ExecuteTime": {
     "end_time": "2019-09-16T14:20:19.370544Z",
     "start_time": "2019-09-16T14:20:19.349047Z"
    }
   },
   "outputs": [],
   "source": [
    "X = np.matrix(X.values)\n",
    "y = np.matrix(y.values)\n",
    "theta = np.matrix(np.array([0,0]))"
   ]
  },
  {
   "cell_type": "code",
   "execution_count": 35,
   "metadata": {
    "ExecuteTime": {
     "end_time": "2019-09-16T14:20:20.347339Z",
     "start_time": "2019-09-16T14:20:20.309582Z"
    }
   },
   "outputs": [
    {
     "data": {
      "text/plain": [
       "((97, 2), (1, 2), (97, 1))"
      ]
     },
     "execution_count": 35,
     "metadata": {},
     "output_type": "execute_result"
    }
   ],
   "source": [
    "X.shape, theta.shape, y.shape"
   ]
  },
  {
   "cell_type": "code",
   "execution_count": 36,
   "metadata": {
    "ExecuteTime": {
     "end_time": "2019-09-16T14:20:21.325919Z",
     "start_time": "2019-09-16T14:20:21.301207Z"
    }
   },
   "outputs": [
    {
     "data": {
      "text/plain": [
       "32.072733877455676"
      ]
     },
     "execution_count": 36,
     "metadata": {},
     "output_type": "execute_result"
    }
   ],
   "source": [
    "computeCost(X, y, theta)"
   ]
  },
  {
   "cell_type": "markdown",
   "metadata": {},
   "source": [
    "定义批量梯度下降算法："
   ]
  },
  {
   "cell_type": "code",
   "execution_count": 37,
   "metadata": {
    "ExecuteTime": {
     "end_time": "2019-09-16T14:20:23.902131Z",
     "start_time": "2019-09-16T14:20:23.865002Z"
    }
   },
   "outputs": [],
   "source": [
    "def gradientDecent(X,y,theta,alpha,iters):\n",
    "    temp = np.matrix(np.zeros(theta.shape))\n",
    "    parameters = int(theta.ravel().shape[1])\n",
    "    cost = np.zeros(iters)\n",
    "    \n",
    "    for i in range(iters):\n",
    "        error = (X * theta.T) - y\n",
    "        \n",
    "        for j in range(parameters):\n",
    "            term = np.multiply(error, X[:,j])\n",
    "            temp[0,j] = theta[0,j] - ((alpha /len(X)) * np.sum(term))\n",
    "            \n",
    "            theta = temp\n",
    "            cost[i] = computeCost(X,y,theta)\n",
    "    return theta, cost"
   ]
  },
  {
   "cell_type": "markdown",
   "metadata": {},
   "source": [
    "### 初始化模型\n",
    "初始化学习速率和迭代次数，进行梯度下降求解"
   ]
  },
  {
   "cell_type": "code",
   "execution_count": 38,
   "metadata": {
    "ExecuteTime": {
     "end_time": "2019-09-16T14:20:26.932359Z",
     "start_time": "2019-09-16T14:20:26.434622Z"
    }
   },
   "outputs": [
    {
     "data": {
      "text/plain": [
       "matrix([[-3.24140214,  1.1272942 ]])"
      ]
     },
     "execution_count": 38,
     "metadata": {},
     "output_type": "execute_result"
    }
   ],
   "source": [
    "alpha = 0.01\n",
    "iters = 1000\n",
    "g, cost = gradientDecent(X, y, theta, alpha, iters)\n",
    "g"
   ]
  },
  {
   "cell_type": "code",
   "execution_count": 39,
   "metadata": {
    "ExecuteTime": {
     "end_time": "2019-09-16T14:20:27.678222Z",
     "start_time": "2019-09-16T14:20:27.639696Z"
    }
   },
   "outputs": [
    {
     "data": {
      "text/plain": [
       "4.515955503078912"
      ]
     },
     "execution_count": 39,
     "metadata": {},
     "output_type": "execute_result"
    }
   ],
   "source": [
    "computeCost(X,y,g)"
   ]
  },
  {
   "cell_type": "markdown",
   "metadata": {},
   "source": [
    "### 绘制结果"
   ]
  },
  {
   "cell_type": "code",
   "execution_count": 41,
   "metadata": {
    "ExecuteTime": {
     "end_time": "2019-09-16T14:20:30.727136Z",
     "start_time": "2019-09-16T14:20:29.152511Z"
    },
    "scrolled": true
   },
   "outputs": [
    {
     "data": {
      "image/png": "[encoded data removed]",
      "text/plain": [
       "<Figure size 864x576 with 1 Axes>"
      ]
     },
     "metadata": {
      "needs_background": "light"
     },
     "output_type": "display_data"
    }
   ],
   "source": [
    "x = np.linspace(data.Population.min(), data.Population.max(),100)\n",
    "f = g[0,0] + g[0,1] * x\n",
    "fig, ax = plt.subplots(figsize=(12,8))\n",
    "ax.plot(x,f,'r',label='Prediction')\n",
    "ax.scatter(data.Population, data.Profit, label = 'Training Data')\n",
    "ax.legend(loc=2)\n",
    "ax.set_xlabel('Population')\n",
    "ax.set_ylabel('Profit')\n",
    "ax.set_title('Predicted Profit vs. Population Size')\n",
    "plt.show()"
   ]
  },
  {
   "cell_type": "markdown",
   "metadata": {},
   "source": [
    "Not bad!绘制一下Error与迭代次数的可视化图，看看误差下降的情况："
   ]
  },
  {
   "cell_type": "code",
   "execution_count": 42,
   "metadata": {
    "ExecuteTime": {
     "end_time": "2019-09-16T14:20:36.261497Z",
     "start_time": "2019-09-16T14:20:35.324466Z"
    }
   },
   "outputs": [
    {
     "data": {
      "image/png": "[encoded data removed]",
      "text/plain": [
       "<Figure size 864x576 with 1 Axes>"
      ]
     },
     "metadata": {
      "needs_background": "light"
     },
     "output_type": "display_data"
    }
   ],
   "source": [
    "fig, ax = plt.subplots(figsize=(12,8))\n",
    "ax.plot(np.arange(iters), cost, 'r')\n",
    "ax.set_xlabel('Iterations')\n",
    "ax.set_ylabel('Cost')\n",
    "ax.set_title('Error vs. Training Epoch')\n",
    "plt.show()"
   ]
  },
  {
   "cell_type": "markdown",
   "metadata": {},
   "source": [
    "## 结论\n",
    "\n",
    "\n",
    "我们现在看到，使用梯度下降就可以很容易实现的一个模型。接下来我们会在此基础上，介绍更多机器学习的知识，以及如何实现这些算法。\n",
    "\n",
    "## 练习\n",
    "\n",
    "动手去实现单变量的线性回归算法啊，尝试用不同的学习率查看误差下降速度（收敛率）\n"
   ]
  }
 ],
 "metadata": {
  "kernelspec": {
   "display_name": "Python 3",
   "language": "python",
   "name": "python3"
  },
  "language_info": {
   "codemirror_mode": {
    "name": "ipython",
    "version": 3
   },
   "file_extension": ".py",
   "mimetype": "text/x-python",
   "name": "python",
   "nbconvert_exporter": "python",
   "pygments_lexer": "ipython3",
   "version": "3.7.4"
  }
 },
 "nbformat": 4,
 "nbformat_minor": 2
}
